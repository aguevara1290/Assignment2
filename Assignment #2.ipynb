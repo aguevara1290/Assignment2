{
 "cells": [
  {
   "cell_type": "markdown",
   "metadata": {
    "collapsed": true
   },
   "source": [
    "# My Jupyter Notebook on IBM Watson Studio"
   ]
  },
  {
   "cell_type": "markdown",
   "metadata": {},
   "source": [
    "<b>Anandi Guevara</b>\n",
    "<br>LSS Black Belt "
   ]
  },
  {
   "cell_type": "markdown",
   "metadata": {},
   "source": [
    "<i>I have a strong interest in data science because of its ability to predict outcomes and prevent issues from occuring. Additionally, I am intrigued by machine learning and excited to learn more about its applicability in the healthcare field.</i>"
   ]
  },
  {
   "cell_type": "markdown",
   "metadata": {},
   "source": [
    "### Substracts one number from the other"
   ]
  },
  {
   "cell_type": "code",
   "execution_count": 1,
   "metadata": {},
   "outputs": [
    {
     "data": {
      "text/plain": [
       "15"
      ]
     },
     "execution_count": 1,
     "metadata": {},
     "output_type": "execute_result"
    }
   ],
   "source": [
    "20-5"
   ]
  },
  {
   "attachments": {
    "download.jpg": {
     "image/jpeg": "[encoded data removed]"
    }
   },
   "cell_type": "markdown",
   "metadata": {},
   "source": [
    "Practice Example: Grocery List\n",
    "1. Fruits\n",
    "- Banana\n",
    "- Apple\n",
    "- <s> Orange </s>\n",
    "- Grapes\n",
    "    - Green\n",
    "    - Red\n",
    "2. <s> Bread </s>\n",
    "3. Eggs\n",
    "4. Lettuce (the kind pictured below!)\n",
    "![download.jpg](attachment:download.jpg)"
   ]
  },
  {
   "cell_type": "markdown",
   "metadata": {},
   "source": [
    "Recipe: https://www.allrecipes.com/recipe/71722/asian-lettuce-wraps/"
   ]
  }
 ],
 "metadata": {
  "kernelspec": {
   "display_name": "Python 3.9",
   "language": "python",
   "name": "python3"
  },
  "language_info": {
   "codemirror_mode": {
    "name": "ipython",
    "version": 3
   },
   "file_extension": ".py",
   "mimetype": "text/x-python",
   "name": "python",
   "nbconvert_exporter": "python",
   "pygments_lexer": "ipython3",
   "version": "3.9.13"
  }
 },
 "nbformat": 4,
 "nbformat_minor": 1
}
